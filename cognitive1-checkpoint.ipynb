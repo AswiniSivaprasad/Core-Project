{
 "cells": [
  {
   "cell_type": "code",
   "execution_count": 1,
   "metadata": {
    "colab": {
     "base_uri": "https://localhost:8080/"
    },
    "execution": {
     "iopub.execute_input": "2020-08-17T08:17:53.409186Z",
     "iopub.status.busy": "2020-08-17T08:17:53.408076Z",
     "iopub.status.idle": "2020-08-17T08:17:53.412881Z",
     "shell.execute_reply": "2020-08-17T08:17:53.412105Z"
    },
    "id": "FZkMyQU-YsbB",
    "outputId": "60d03832-f7ed-40f6-fd7c-60ca756fea0a",
    "papermill": {
     "duration": 0.024666,
     "end_time": "2020-08-17T08:17:53.413058",
     "exception": false,
     "start_time": "2020-08-17T08:17:53.388392",
     "status": "completed"
    },
    "tags": []
   },
   "outputs": [],
   "source": [
    "import numpy as np\n",
    "import pandas as pd\n",
    "import matplotlib as mpl\n",
    "import matplotlib.pyplot as plt\n",
    "\n",
    "\n",
    "\n",
    "\n",
    "\n",
    "%matplotlib inline\n",
    "\n"
   ]
  },
  {
   "cell_type": "code",
   "execution_count": 2,
   "metadata": {
    "colab": {
     "base_uri": "https://localhost:8080/",
     "height": 473
    },
    "execution": {
     "iopub.execute_input": "2020-08-17T08:17:53.446776Z",
     "iopub.status.busy": "2020-08-17T08:17:53.445874Z",
     "iopub.status.idle": "2020-08-17T08:18:47.182436Z",
     "shell.execute_reply": "2020-08-17T08:18:47.183052Z"
    },
    "id": "GBg4D66qYsbF",
    "outputId": "1d571fd4-a174-4d50-dceb-63fc4d24661a",
    "papermill": {
     "duration": 53.75909,
     "end_time": "2020-08-17T08:18:47.183259",
     "exception": false,
     "start_time": "2020-08-17T08:17:53.424169",
     "status": "completed"
    },
    "tags": []
   },
   "outputs": [
    {
     "ename": "FileNotFoundError",
     "evalue": "[Errno 2] No such file or directory: 'dataset.csv'",
     "output_type": "error",
     "traceback": [
      "\u001b[1;31m---------------------------------------------------------------------------\u001b[0m",
      "\u001b[1;31mFileNotFoundError\u001b[0m                         Traceback (most recent call last)",
      "\u001b[1;32m<ipython-input-2-3f773eaca748>\u001b[0m in \u001b[0;36m<module>\u001b[1;34m\u001b[0m\n\u001b[1;32m----> 1\u001b[1;33m \u001b[0mdata\u001b[0m \u001b[1;33m=\u001b[0m \u001b[0mpd\u001b[0m\u001b[1;33m.\u001b[0m\u001b[0mread_csv\u001b[0m\u001b[1;33m(\u001b[0m\u001b[1;34m'dataset.csv'\u001b[0m\u001b[1;33m,\u001b[0m\u001b[0mnrows\u001b[0m\u001b[1;33m=\u001b[0m\u001b[1;36m500\u001b[0m\u001b[1;33m,\u001b[0m\u001b[0mengine\u001b[0m\u001b[1;33m=\u001b[0m\u001b[1;34m'python'\u001b[0m\u001b[1;33m)\u001b[0m\u001b[1;33m\u001b[0m\u001b[0m\n\u001b[0m\u001b[0;32m      2\u001b[0m \u001b[0mdata\u001b[0m\u001b[1;33m.\u001b[0m\u001b[0mhead\u001b[0m\u001b[1;33m(\u001b[0m\u001b[1;33m)\u001b[0m\u001b[1;33m\u001b[0m\u001b[0m\n",
      "\u001b[1;32m~\\AppData\\Local\\Programs\\Python\\Python36\\lib\\site-packages\\pandas\\io\\parsers.py\u001b[0m in \u001b[0;36mparser_f\u001b[1;34m(filepath_or_buffer, sep, delimiter, header, names, index_col, usecols, squeeze, prefix, mangle_dupe_cols, dtype, engine, converters, true_values, false_values, skipinitialspace, skiprows, skipfooter, nrows, na_values, keep_default_na, na_filter, verbose, skip_blank_lines, parse_dates, infer_datetime_format, keep_date_col, date_parser, dayfirst, cache_dates, iterator, chunksize, compression, thousands, decimal, lineterminator, quotechar, quoting, doublequote, escapechar, comment, encoding, dialect, error_bad_lines, warn_bad_lines, delim_whitespace, low_memory, memory_map, float_precision)\u001b[0m\n\u001b[0;32m    683\u001b[0m         )\n\u001b[0;32m    684\u001b[0m \u001b[1;33m\u001b[0m\u001b[0m\n\u001b[1;32m--> 685\u001b[1;33m         \u001b[1;32mreturn\u001b[0m \u001b[0m_read\u001b[0m\u001b[1;33m(\u001b[0m\u001b[0mfilepath_or_buffer\u001b[0m\u001b[1;33m,\u001b[0m \u001b[0mkwds\u001b[0m\u001b[1;33m)\u001b[0m\u001b[1;33m\u001b[0m\u001b[0m\n\u001b[0m\u001b[0;32m    686\u001b[0m \u001b[1;33m\u001b[0m\u001b[0m\n\u001b[0;32m    687\u001b[0m     \u001b[0mparser_f\u001b[0m\u001b[1;33m.\u001b[0m\u001b[0m__name__\u001b[0m \u001b[1;33m=\u001b[0m \u001b[0mname\u001b[0m\u001b[1;33m\u001b[0m\u001b[0m\n",
      "\u001b[1;32m~\\AppData\\Local\\Programs\\Python\\Python36\\lib\\site-packages\\pandas\\io\\parsers.py\u001b[0m in \u001b[0;36m_read\u001b[1;34m(filepath_or_buffer, kwds)\u001b[0m\n\u001b[0;32m    455\u001b[0m \u001b[1;33m\u001b[0m\u001b[0m\n\u001b[0;32m    456\u001b[0m     \u001b[1;31m# Create the parser.\u001b[0m\u001b[1;33m\u001b[0m\u001b[1;33m\u001b[0m\u001b[0m\n\u001b[1;32m--> 457\u001b[1;33m     \u001b[0mparser\u001b[0m \u001b[1;33m=\u001b[0m \u001b[0mTextFileReader\u001b[0m\u001b[1;33m(\u001b[0m\u001b[0mfp_or_buf\u001b[0m\u001b[1;33m,\u001b[0m \u001b[1;33m**\u001b[0m\u001b[0mkwds\u001b[0m\u001b[1;33m)\u001b[0m\u001b[1;33m\u001b[0m\u001b[0m\n\u001b[0m\u001b[0;32m    458\u001b[0m \u001b[1;33m\u001b[0m\u001b[0m\n\u001b[0;32m    459\u001b[0m     \u001b[1;32mif\u001b[0m \u001b[0mchunksize\u001b[0m \u001b[1;32mor\u001b[0m \u001b[0miterator\u001b[0m\u001b[1;33m:\u001b[0m\u001b[1;33m\u001b[0m\u001b[0m\n",
      "\u001b[1;32m~\\AppData\\Local\\Programs\\Python\\Python36\\lib\\site-packages\\pandas\\io\\parsers.py\u001b[0m in \u001b[0;36m__init__\u001b[1;34m(self, f, engine, **kwds)\u001b[0m\n\u001b[0;32m    893\u001b[0m             \u001b[0mself\u001b[0m\u001b[1;33m.\u001b[0m\u001b[0moptions\u001b[0m\u001b[1;33m[\u001b[0m\u001b[1;34m\"has_index_names\"\u001b[0m\u001b[1;33m]\u001b[0m \u001b[1;33m=\u001b[0m \u001b[0mkwds\u001b[0m\u001b[1;33m[\u001b[0m\u001b[1;34m\"has_index_names\"\u001b[0m\u001b[1;33m]\u001b[0m\u001b[1;33m\u001b[0m\u001b[0m\n\u001b[0;32m    894\u001b[0m \u001b[1;33m\u001b[0m\u001b[0m\n\u001b[1;32m--> 895\u001b[1;33m         \u001b[0mself\u001b[0m\u001b[1;33m.\u001b[0m\u001b[0m_make_engine\u001b[0m\u001b[1;33m(\u001b[0m\u001b[0mself\u001b[0m\u001b[1;33m.\u001b[0m\u001b[0mengine\u001b[0m\u001b[1;33m)\u001b[0m\u001b[1;33m\u001b[0m\u001b[0m\n\u001b[0m\u001b[0;32m    896\u001b[0m \u001b[1;33m\u001b[0m\u001b[0m\n\u001b[0;32m    897\u001b[0m     \u001b[1;32mdef\u001b[0m \u001b[0mclose\u001b[0m\u001b[1;33m(\u001b[0m\u001b[0mself\u001b[0m\u001b[1;33m)\u001b[0m\u001b[1;33m:\u001b[0m\u001b[1;33m\u001b[0m\u001b[0m\n",
      "\u001b[1;32m~\\AppData\\Local\\Programs\\Python\\Python36\\lib\\site-packages\\pandas\\io\\parsers.py\u001b[0m in \u001b[0;36m_make_engine\u001b[1;34m(self, engine)\u001b[0m\n\u001b[0;32m   1145\u001b[0m                     \u001b[1;34m' \"python-fwf\")'\u001b[0m\u001b[1;33m.\u001b[0m\u001b[0mformat\u001b[0m\u001b[1;33m(\u001b[0m\u001b[0mengine\u001b[0m\u001b[1;33m=\u001b[0m\u001b[0mengine\u001b[0m\u001b[1;33m)\u001b[0m\u001b[1;33m\u001b[0m\u001b[0m\n\u001b[0;32m   1146\u001b[0m                 )\n\u001b[1;32m-> 1147\u001b[1;33m             \u001b[0mself\u001b[0m\u001b[1;33m.\u001b[0m\u001b[0m_engine\u001b[0m \u001b[1;33m=\u001b[0m \u001b[0mklass\u001b[0m\u001b[1;33m(\u001b[0m\u001b[0mself\u001b[0m\u001b[1;33m.\u001b[0m\u001b[0mf\u001b[0m\u001b[1;33m,\u001b[0m \u001b[1;33m**\u001b[0m\u001b[0mself\u001b[0m\u001b[1;33m.\u001b[0m\u001b[0moptions\u001b[0m\u001b[1;33m)\u001b[0m\u001b[1;33m\u001b[0m\u001b[0m\n\u001b[0m\u001b[0;32m   1148\u001b[0m \u001b[1;33m\u001b[0m\u001b[0m\n\u001b[0;32m   1149\u001b[0m     \u001b[1;32mdef\u001b[0m \u001b[0m_failover_to_python\u001b[0m\u001b[1;33m(\u001b[0m\u001b[0mself\u001b[0m\u001b[1;33m)\u001b[0m\u001b[1;33m:\u001b[0m\u001b[1;33m\u001b[0m\u001b[0m\n",
      "\u001b[1;32m~\\AppData\\Local\\Programs\\Python\\Python36\\lib\\site-packages\\pandas\\io\\parsers.py\u001b[0m in \u001b[0;36m__init__\u001b[1;34m(self, f, **kwds)\u001b[0m\n\u001b[0;32m   2291\u001b[0m             \u001b[0mencoding\u001b[0m\u001b[1;33m=\u001b[0m\u001b[0mself\u001b[0m\u001b[1;33m.\u001b[0m\u001b[0mencoding\u001b[0m\u001b[1;33m,\u001b[0m\u001b[1;33m\u001b[0m\u001b[0m\n\u001b[0;32m   2292\u001b[0m             \u001b[0mcompression\u001b[0m\u001b[1;33m=\u001b[0m\u001b[0mself\u001b[0m\u001b[1;33m.\u001b[0m\u001b[0mcompression\u001b[0m\u001b[1;33m,\u001b[0m\u001b[1;33m\u001b[0m\u001b[0m\n\u001b[1;32m-> 2293\u001b[1;33m             \u001b[0mmemory_map\u001b[0m\u001b[1;33m=\u001b[0m\u001b[0mself\u001b[0m\u001b[1;33m.\u001b[0m\u001b[0mmemory_map\u001b[0m\u001b[1;33m,\u001b[0m\u001b[1;33m\u001b[0m\u001b[0m\n\u001b[0m\u001b[0;32m   2294\u001b[0m         )\n\u001b[0;32m   2295\u001b[0m         \u001b[0mself\u001b[0m\u001b[1;33m.\u001b[0m\u001b[0mhandles\u001b[0m\u001b[1;33m.\u001b[0m\u001b[0mextend\u001b[0m\u001b[1;33m(\u001b[0m\u001b[0mhandles\u001b[0m\u001b[1;33m)\u001b[0m\u001b[1;33m\u001b[0m\u001b[0m\n",
      "\u001b[1;32m~\\AppData\\Local\\Programs\\Python\\Python36\\lib\\site-packages\\pandas\\io\\common.py\u001b[0m in \u001b[0;36m_get_handle\u001b[1;34m(path_or_buf, mode, encoding, compression, memory_map, is_text)\u001b[0m\n\u001b[0;32m    400\u001b[0m         \u001b[1;32melif\u001b[0m \u001b[0mis_text\u001b[0m\u001b[1;33m:\u001b[0m\u001b[1;33m\u001b[0m\u001b[0m\n\u001b[0;32m    401\u001b[0m             \u001b[1;31m# No explicit encoding\u001b[0m\u001b[1;33m\u001b[0m\u001b[1;33m\u001b[0m\u001b[0m\n\u001b[1;32m--> 402\u001b[1;33m             \u001b[0mf\u001b[0m \u001b[1;33m=\u001b[0m \u001b[0mopen\u001b[0m\u001b[1;33m(\u001b[0m\u001b[0mpath_or_buf\u001b[0m\u001b[1;33m,\u001b[0m \u001b[0mmode\u001b[0m\u001b[1;33m,\u001b[0m \u001b[0merrors\u001b[0m\u001b[1;33m=\u001b[0m\u001b[1;34m\"replace\"\u001b[0m\u001b[1;33m,\u001b[0m \u001b[0mnewline\u001b[0m\u001b[1;33m=\u001b[0m\u001b[1;34m\"\"\u001b[0m\u001b[1;33m)\u001b[0m\u001b[1;33m\u001b[0m\u001b[0m\n\u001b[0m\u001b[0;32m    403\u001b[0m         \u001b[1;32melse\u001b[0m\u001b[1;33m:\u001b[0m\u001b[1;33m\u001b[0m\u001b[0m\n\u001b[0;32m    404\u001b[0m             \u001b[1;31m# Binary mode\u001b[0m\u001b[1;33m\u001b[0m\u001b[1;33m\u001b[0m\u001b[0m\n",
      "\u001b[1;31mFileNotFoundError\u001b[0m: [Errno 2] No such file or directory: 'dataset.csv'"
     ]
    }
   ],
   "source": [
    "data = pd.read_csv('dataset.csv',nrows=500,engine='python')\n",
    "data.head()\n"
   ]
  },
  {
   "cell_type": "code",
   "execution_count": null,
   "metadata": {
    "colab": {
     "base_uri": "https://localhost:8080/"
    },
    "execution": {
     "iopub.execute_input": "2020-08-17T08:18:47.211406Z",
     "iopub.status.busy": "2020-08-17T08:18:47.210102Z",
     "iopub.status.idle": "2020-08-17T08:18:47.215228Z",
     "shell.execute_reply": "2020-08-17T08:18:47.215832Z"
    },
    "id": "yUQ92tKKYsbI",
    "outputId": "61ac4d79-be8b-4635-93f7-fe5047c4facf",
    "papermill": {
     "duration": 0.021946,
     "end_time": "2020-08-17T08:18:47.216011",
     "exception": false,
     "start_time": "2020-08-17T08:18:47.194065",
     "status": "completed"
    },
    "tags": []
   },
   "outputs": [],
   "source": [
    "data.shape"
   ]
  },
  {
   "cell_type": "code",
   "execution_count": null,
   "metadata": {
    "colab": {
     "base_uri": "https://localhost:8080/"
    },
    "execution": {
     "iopub.execute_input": "2020-08-17T08:18:47.246969Z",
     "iopub.status.busy": "2020-08-17T08:18:47.245751Z",
     "iopub.status.idle": "2020-08-17T08:18:47.250487Z",
     "shell.execute_reply": "2020-08-17T08:18:47.249799Z"
    },
    "id": "8ZWXDB4qYsbJ",
    "outputId": "7e78fd5d-5051-4d93-eef1-b21e09bf2655",
    "papermill": {
     "duration": 0.02363,
     "end_time": "2020-08-17T08:18:47.250632",
     "exception": false,
     "start_time": "2020-08-17T08:18:47.227002",
     "status": "completed"
    },
    "tags": []
   },
   "outputs": [],
   "source": [
    "data.columns"
   ]
  },
  {
   "cell_type": "code",
   "execution_count": null,
   "metadata": {
    "colab": {
     "base_uri": "https://localhost:8080/"
    },
    "execution": {
     "iopub.execute_input": "2020-08-17T08:18:47.301616Z",
     "iopub.status.busy": "2020-08-17T08:18:47.283395Z",
     "iopub.status.idle": "2020-08-17T08:18:47.307530Z",
     "shell.execute_reply": "2020-08-17T08:18:47.306604Z"
    },
    "id": "eFANicPSYsbL",
    "outputId": "5a97db53-8321-4f55-cfe7-a55ae567130f",
    "papermill": {
     "duration": 0.046103,
     "end_time": "2020-08-17T08:18:47.307723",
     "exception": false,
     "start_time": "2020-08-17T08:18:47.261620",
     "status": "completed"
    },
    "tags": []
   },
   "outputs": [],
   "source": [
    "data.info()"
   ]
  },
  {
   "cell_type": "code",
   "execution_count": null,
   "metadata": {
    "colab": {
     "base_uri": "https://localhost:8080/",
     "height": 424
    },
    "execution": {
     "iopub.execute_input": "2020-08-17T08:18:47.617004Z",
     "iopub.status.busy": "2020-08-17T08:18:47.609485Z",
     "iopub.status.idle": "2020-08-17T08:18:47.623095Z",
     "shell.execute_reply": "2020-08-17T08:18:47.622291Z"
    },
    "id": "um2VrLcTYsbO",
    "outputId": "62333702-4757-4217-82fa-2633eb12bd6f",
    "papermill": {
     "duration": 0.280481,
     "end_time": "2020-08-17T08:18:47.623231",
     "exception": false,
     "start_time": "2020-08-17T08:18:47.342750",
     "status": "completed"
    },
    "tags": []
   },
   "outputs": [],
   "source": [
    "non_num_cols = [col for col in data.columns if data[col].dtype == 'O']\n",
    "non_num_data = data[non_num_cols]\n",
    "non_num_data"
   ]
  },
  {
   "cell_type": "code",
   "execution_count": null,
   "metadata": {
    "colab": {
     "base_uri": "https://localhost:8080/"
    },
    "execution": {
     "iopub.execute_input": "2020-08-17T08:18:47.954120Z",
     "iopub.status.busy": "2020-08-17T08:18:47.952961Z",
     "iopub.status.idle": "2020-08-17T08:18:50.694818Z",
     "shell.execute_reply": "2020-08-17T08:18:50.694188Z"
    },
    "id": "DqxMEfGcYsbU",
    "outputId": "920f2b61-adf0-40d5-94bc-b7221ea8251c",
    "papermill": {
     "duration": 3.035357,
     "end_time": "2020-08-17T08:18:50.694955",
     "exception": false,
     "start_time": "2020-08-17T08:18:47.659598",
     "status": "completed"
    },
    "tags": []
   },
   "outputs": [],
   "source": [
    "[(col, non_num_data[col].nunique()) for col in non_num_cols]"
   ]
  },
  {
   "cell_type": "code",
   "execution_count": null,
   "metadata": {
    "execution": {
     "iopub.execute_input": "2020-08-17T08:18:50.730290Z",
     "iopub.status.busy": "2020-08-17T08:18:50.729318Z",
     "iopub.status.idle": "2020-08-17T08:18:50.733066Z",
     "shell.execute_reply": "2020-08-17T08:18:50.732461Z"
    },
    "id": "tscktIGUYsbV",
    "papermill": {
     "duration": 0.026363,
     "end_time": "2020-08-17T08:18:50.733197",
     "exception": false,
     "start_time": "2020-08-17T08:18:50.706834",
     "status": "completed"
    },
    "tags": []
   },
   "outputs": [],
   "source": [
    "def summarize_cat(col_name):\n",
    "    sorted_values = sorted(non_num_data[col_name].value_counts().iteritems(), key = lambda x:x[1], reverse=True)\n",
    "    remaining_per = 100\n",
    "    for (value, count) in sorted_values:\n",
    "        per = count / len(non_num_data) * 100\n",
    "        if per >= 1:\n",
    "            print(f'{value} : {per:.2f}%')\n",
    "        else :\n",
    "            print(f'Others : {remaining_per:.2f}%')\n",
    "            break\n",
    "        remaining_per = remaining_per - per"
   ]
  },
  {
   "cell_type": "code",
   "execution_count": null,
   "metadata": {
    "colab": {
     "base_uri": "https://localhost:8080/"
    },
    "execution": {
     "iopub.execute_input": "2020-08-17T08:18:52.730663Z",
     "iopub.status.busy": "2020-08-17T08:18:52.729770Z",
     "iopub.status.idle": "2020-08-17T08:19:00.902701Z",
     "shell.execute_reply": "2020-08-17T08:19:00.901615Z"
    },
    "id": "BnwGTOixYsbW",
    "outputId": "cdededb0-765a-4866-ab30-eb0fd0c5cb0c",
    "papermill": {
     "duration": 10.157733,
     "end_time": "2020-08-17T08:19:00.902926",
     "exception": false,
     "start_time": "2020-08-17T08:18:50.745193",
     "status": "completed"
    },
    "tags": []
   },
   "outputs": [],
   "source": [
    "for col in non_num_cols:\n",
    "    print(f\"Summary of {col} column : \")\n",
    "    summarize_cat(col)\n",
    "    print('\\n')"
   ]
  },
  {
   "cell_type": "code",
   "execution_count": null,
   "metadata": {
    "colab": {
     "base_uri": "https://localhost:8080/"
    },
    "execution": {
     "iopub.execute_input": "2020-08-17T08:19:00.963942Z",
     "iopub.status.busy": "2020-08-17T08:19:00.962950Z",
     "iopub.status.idle": "2020-08-17T08:19:00.968008Z",
     "shell.execute_reply": "2020-08-17T08:19:00.967224Z"
    },
    "id": "mAb-PSOHYsbX",
    "outputId": "1f4eb16a-8343-4692-b952-3db2f332568f",
    "papermill": {
     "duration": 0.027002,
     "end_time": "2020-08-17T08:19:00.968139",
     "exception": false,
     "start_time": "2020-08-17T08:19:00.941137",
     "status": "completed"
    },
    "tags": []
   },
   "outputs": [],
   "source": [
    "num_cols = list(set(data.columns) - set(non_num_cols))\n",
    "num_cols"
   ]
  },
  {
   "cell_type": "code",
   "execution_count": null,
   "metadata": {
    "colab": {
     "base_uri": "https://localhost:8080/",
     "height": 394
    },
    "execution": {
     "iopub.execute_input": "2020-08-17T08:19:01.801668Z",
     "iopub.status.busy": "2020-08-17T08:19:01.359857Z",
     "iopub.status.idle": "2020-08-17T08:19:11.175499Z",
     "shell.execute_reply": "2020-08-17T08:19:11.174734Z"
    },
    "id": "B5OEte0VYsbY",
    "outputId": "a113bb3f-43d9-4e07-f994-912a5851bb83",
    "papermill": {
     "duration": 10.194699,
     "end_time": "2020-08-17T08:19:11.175704",
     "exception": false,
     "start_time": "2020-08-17T08:19:00.981005",
     "status": "completed"
    },
    "tags": []
   },
   "outputs": [],
   "source": [
    "data[num_cols].describe()"
   ]
  },
  {
   "cell_type": "code",
   "execution_count": null,
   "metadata": {
    "colab": {
     "base_uri": "https://localhost:8080/"
    },
    "execution": {
     "iopub.execute_input": "2020-08-17T08:19:11.211173Z",
     "iopub.status.busy": "2020-08-17T08:19:11.209915Z",
     "iopub.status.idle": "2020-08-17T08:19:11.395937Z",
     "shell.execute_reply": "2020-08-17T08:19:11.395316Z"
    },
    "id": "zb7-WkiFYsbY",
    "outputId": "ad9f7c35-0819-4b09-e022-6ce18b993112",
    "papermill": {
     "duration": 0.206048,
     "end_time": "2020-08-17T08:19:11.396089",
     "exception": false,
     "start_time": "2020-08-17T08:19:11.190041",
     "status": "completed"
    },
    "tags": []
   },
   "outputs": [],
   "source": [
    "[col for col in num_cols if data[col].isnull().any()]"
   ]
  },
  {
   "cell_type": "code",
   "execution_count": null,
   "metadata": {
    "colab": {
     "base_uri": "https://localhost:8080/"
    },
    "execution": {
     "iopub.execute_input": "2020-08-17T08:20:50.916823Z",
     "iopub.status.busy": "2020-08-17T08:20:50.915942Z",
     "iopub.status.idle": "2020-08-17T08:20:59.356594Z",
     "shell.execute_reply": "2020-08-17T08:20:59.355771Z"
    },
    "id": "-lCEU3ONYsba",
    "outputId": "2d93e4f5-19b2-4154-ce7d-219241668864",
    "papermill": {
     "duration": 8.465757,
     "end_time": "2020-08-17T08:20:59.356730",
     "exception": false,
     "start_time": "2020-08-17T08:20:50.890973",
     "status": "completed"
    },
    "tags": []
   },
   "outputs": [],
   "source": [
    "cols_for_hist = [col for col in num_cols if data[col].nunique() <= 50]\n",
    "cols_for_hist, len(cols_for_hist)"
   ]
  },
  {
   "cell_type": "code",
   "execution_count": null,
   "metadata": {
    "colab": {
     "base_uri": "https://localhost:8080/"
    },
    "execution": {
     "iopub.execute_input": "2020-08-17T08:20:59.402311Z",
     "iopub.status.busy": "2020-08-17T08:20:59.401120Z",
     "iopub.status.idle": "2020-08-17T08:21:08.288379Z",
     "shell.execute_reply": "2020-08-17T08:21:08.287515Z"
    },
    "id": "2O1DjL-EYsba",
    "outputId": "baf4f792-d66d-4713-c0f3-cc3102a02402",
    "papermill": {
     "duration": 8.912742,
     "end_time": "2020-08-17T08:21:08.288539",
     "exception": false,
     "start_time": "2020-08-17T08:20:59.375797",
     "status": "completed"
    },
    "tags": []
   },
   "outputs": [],
   "source": [
    "cols_for_desc = [col for col in num_cols if data[col].nunique() > 50]\n",
    "cols_for_desc"
   ]
  },
  {
   "cell_type": "code",
   "execution_count": null,
   "metadata": {
    "execution": {
     "iopub.execute_input": "2020-08-17T08:21:15.831546Z",
     "iopub.status.busy": "2020-08-17T08:21:15.830552Z",
     "iopub.status.idle": "2020-08-17T08:22:10.214805Z",
     "shell.execute_reply": "2020-08-17T08:22:10.213988Z"
    },
    "id": "VG-ZvoTMYsbb",
    "papermill": {
     "duration": 55.196339,
     "end_time": "2020-08-17T08:22:10.214950",
     "exception": false,
     "start_time": "2020-08-17T08:21:15.018611",
     "status": "completed"
    },
    "tags": []
   },
   "outputs": [],
   "source": [
    "corr = data[num_cols].corr()"
   ]
  },
  {
   "cell_type": "code",
   "execution_count": null,
   "metadata": {
    "execution": {
     "iopub.execute_input": "2020-08-17T08:22:12.735871Z",
     "iopub.status.busy": "2020-08-17T08:22:12.734087Z",
     "iopub.status.idle": "2020-08-17T08:22:14.036663Z",
     "shell.execute_reply": "2020-08-17T08:22:14.035797Z"
    },
    "id": "WMfsKSaZYsbd",
    "papermill": {
     "duration": 1.333023,
     "end_time": "2020-08-17T08:22:14.036805",
     "exception": false,
     "start_time": "2020-08-17T08:22:12.703782",
     "status": "completed"
    },
    "tags": []
   },
   "outputs": [],
   "source": [
    "ipdata = data.copy()"
   ]
  },
  {
   "cell_type": "code",
   "execution_count": null,
   "metadata": {
    "colab": {
     "base_uri": "https://localhost:8080/"
    },
    "execution": {
     "iopub.execute_input": "2020-08-17T08:22:14.394737Z",
     "iopub.status.busy": "2020-08-17T08:22:14.393624Z",
     "iopub.status.idle": "2020-08-17T08:22:15.797362Z",
     "shell.execute_reply": "2020-08-17T08:22:15.796533Z"
    },
    "id": "_C3DG574Ysbd",
    "outputId": "5cd08e3b-eed1-4888-a663-9ae6c2c256ce",
    "papermill": {
     "duration": 1.689529,
     "end_time": "2020-08-17T08:22:15.797509",
     "exception": false,
     "start_time": "2020-08-17T08:22:14.107980",
     "status": "completed"
    },
    "tags": []
   },
   "outputs": [],
   "source": [
    "print(\"No. of unique values in Timestamp column :\",ipdata['Timestamp'].nunique())\n",
    "print(\"No. of unique values in FlowID column :\",ipdata['Flow.ID'].nunique())"
   ]
  },
  {
   "cell_type": "code",
   "execution_count": null,
   "metadata": {
    "execution": {
     "iopub.execute_input": "2020-08-17T08:22:15.852801Z",
     "iopub.status.busy": "2020-08-17T08:22:15.851962Z",
     "iopub.status.idle": "2020-08-17T08:22:16.828210Z",
     "shell.execute_reply": "2020-08-17T08:22:16.827470Z"
    },
    "id": "hwNRHF-jYsbe",
    "papermill": {
     "duration": 1.006952,
     "end_time": "2020-08-17T08:22:16.828365",
     "exception": false,
     "start_time": "2020-08-17T08:22:15.821413",
     "status": "completed"
    },
    "tags": []
   },
   "outputs": [],
   "source": [
    "ipdata.drop(['Timestamp', 'Flow.ID'], axis = 1, inplace = True)"
   ]
  },
  {
   "cell_type": "code",
   "execution_count": null,
   "metadata": {
    "colab": {
     "base_uri": "https://localhost:8080/"
    },
    "execution": {
     "iopub.execute_input": "2020-08-17T08:22:17.189195Z",
     "iopub.status.busy": "2020-08-17T08:22:17.188042Z",
     "iopub.status.idle": "2020-08-17T08:22:26.712590Z",
     "shell.execute_reply": "2020-08-17T08:22:26.711784Z"
    },
    "id": "E1oRHd7IYsbf",
    "outputId": "ab4f626b-491f-436a-8fbf-f3e9c755242f",
    "papermill": {
     "duration": 9.813041,
     "end_time": "2020-08-17T08:22:26.712729",
     "exception": false,
     "start_time": "2020-08-17T08:22:16.899688",
     "status": "completed"
    },
    "tags": []
   },
   "outputs": [],
   "source": [
    "single_unique_cols = [col for col in ipdata.columns if ipdata[col].nunique() == 1]\n",
    "single_unique_cols"
   ]
  },
  {
   "cell_type": "code",
   "execution_count": null,
   "metadata": {
    "execution": {
     "iopub.execute_input": "2020-08-17T08:22:26.768355Z",
     "iopub.status.busy": "2020-08-17T08:22:26.767461Z",
     "iopub.status.idle": "2020-08-17T08:22:27.563802Z",
     "shell.execute_reply": "2020-08-17T08:22:27.563101Z"
    },
    "id": "4hDdT-IJYsbf",
    "papermill": {
     "duration": 0.827084,
     "end_time": "2020-08-17T08:22:27.563961",
     "exception": false,
     "start_time": "2020-08-17T08:22:26.736877",
     "status": "completed"
    },
    "tags": []
   },
   "outputs": [],
   "source": [
    "ipdata.drop(single_unique_cols, axis = 1, inplace = True)"
   ]
  },
  {
   "cell_type": "code",
   "execution_count": null,
   "metadata": {
    "colab": {
     "base_uri": "https://localhost:8080/",
     "height": 424
    },
    "execution": {
     "iopub.execute_input": "2020-08-17T08:22:27.667078Z",
     "iopub.status.busy": "2020-08-17T08:22:27.666175Z",
     "iopub.status.idle": "2020-08-17T08:22:27.758562Z",
     "shell.execute_reply": "2020-08-17T08:22:27.757840Z"
    },
    "id": "esm0YBaUYsbg",
    "outputId": "b98bf134-5292-4d0c-d3af-e4ea5c201de6",
    "papermill": {
     "duration": 0.123034,
     "end_time": "2020-08-17T08:22:27.758707",
     "exception": false,
     "start_time": "2020-08-17T08:22:27.635673",
     "status": "completed"
    },
    "tags": []
   },
   "outputs": [],
   "source": [
    "ip_add_cols = ['Source.IP', 'Source.Port', 'Destination.IP', 'Destination.Port']\n",
    "ipdata[ip_add_cols]"
   ]
  },
  {
   "cell_type": "code",
   "execution_count": null,
   "metadata": {
    "execution": {
     "iopub.execute_input": "2020-08-17T08:22:28.431334Z",
     "iopub.status.busy": "2020-08-17T08:22:28.429588Z",
     "iopub.status.idle": "2020-08-17T08:22:28.502948Z",
     "shell.execute_reply": "2020-08-17T08:22:28.502069Z"
    },
    "id": "MM4b4IRyYsbg",
    "papermill": {
     "duration": 0.718975,
     "end_time": "2020-08-17T08:22:28.503088",
     "exception": false,
     "start_time": "2020-08-17T08:22:27.784113",
     "status": "completed"
    },
    "tags": []
   },
   "outputs": [],
   "source": [
    "ipdata.drop(ip_add_cols, axis = 1, inplace = True)"
   ]
  },
  {
   "cell_type": "code",
   "execution_count": null,
   "metadata": {
    "colab": {
     "base_uri": "https://localhost:8080/"
    },
    "execution": {
     "iopub.execute_input": "2020-08-17T08:22:28.607760Z",
     "iopub.status.busy": "2020-08-17T08:22:28.606941Z",
     "iopub.status.idle": "2020-08-17T08:22:31.527256Z",
     "shell.execute_reply": "2020-08-17T08:22:31.526432Z"
    },
    "id": "01VCl0OaYsbh",
    "outputId": "13402fec-5d2b-44e1-b186-55821fa0ef34",
    "papermill": {
     "duration": 2.951232,
     "end_time": "2020-08-17T08:22:31.527415",
     "exception": false,
     "start_time": "2020-08-17T08:22:28.576183",
     "status": "completed"
    },
    "tags": []
   },
   "outputs": [],
   "source": [
    "from sklearn.preprocessing import LabelEncoder\n",
    "encoder = LabelEncoder().fit(ipdata['ProtocolName'])\n",
    "ipdata['ProtocolName'] = encoder.fit_transform(ipdata['ProtocolName'])\n",
    "ipdata['ProtocolName']"
   ]
  },
  {
   "cell_type": "code",
   "execution_count": null,
   "metadata": {
    "colab": {
     "base_uri": "https://localhost:8080/",
     "height": 456
    },
    "execution": {
     "iopub.execute_input": "2020-08-17T08:22:31.617655Z",
     "iopub.status.busy": "2020-08-17T08:22:31.616767Z",
     "iopub.status.idle": "2020-08-17T08:22:31.623057Z",
     "shell.execute_reply": "2020-08-17T08:22:31.622256Z"
    },
    "id": "vyoXk-9mYsbh",
    "outputId": "f4351818-02be-438f-b10f-370ce0f68aca",
    "papermill": {
     "duration": 0.069738,
     "end_time": "2020-08-17T08:22:31.623197",
     "exception": false,
     "start_time": "2020-08-17T08:22:31.553459",
     "status": "completed"
    },
    "tags": []
   },
   "outputs": [],
   "source": [
    "ipdata.head(10)"
   ]
  },
  {
   "cell_type": "code",
   "execution_count": null,
   "metadata": {
    "colab": {
     "base_uri": "https://localhost:8080/"
    },
    "execution": {
     "iopub.execute_input": "2020-08-17T08:22:31.682395Z",
     "iopub.status.busy": "2020-08-17T08:22:31.681143Z",
     "iopub.status.idle": "2020-08-17T08:22:31.686766Z",
     "shell.execute_reply": "2020-08-17T08:22:31.685754Z"
    },
    "id": "ePLs72_TYsbh",
    "outputId": "07c1c6a9-e1a6-4764-9a8a-6af3351280d1",
    "papermill": {
     "duration": 0.037863,
     "end_time": "2020-08-17T08:22:31.686909",
     "exception": false,
     "start_time": "2020-08-17T08:22:31.649046",
     "status": "completed"
    },
    "tags": []
   },
   "outputs": [],
   "source": [
    "ipdata.shape"
   ]
  },
  {
   "cell_type": "code",
   "execution_count": null,
   "metadata": {
    "id": "wRnq5UtgZSGi"
   },
   "outputs": [],
   "source": [
    "data.dropna(inplace = True)"
   ]
  },
  {
   "cell_type": "code",
   "execution_count": null,
   "metadata": {
    "id": "ykfr2mTNZSJv"
   },
   "outputs": [],
   "source": [
    "def ipInfo(addr=''):\n",
    "    from urllib.request import urlopen\n",
    "    from json import load\n",
    "    if addr == '':\n",
    "        url = 'https://ipinfo.io/json'\n",
    "    else:\n",
    "        url = 'https://ipinfo.io/' + addr + '/json'\n",
    "    res = urlopen(url)\n",
    "    \n",
    "    data = load(res)\n",
    "    \n",
    "    for attr in data.keys():\n",
    "        \n",
    "        print(attr,' '*13+'\\t->\\t',data[attr])\n",
    "data.drop(columns =[\"Timestamp\"], inplace = True)"
   ]
  },
  {
   "cell_type": "code",
   "execution_count": null,
   "metadata": {
    "id": "FYK9ldLsZSNU"
   },
   "outputs": [],
   "source": [
    "data.drop(columns =[\"Label\"], inplace = True)\n",
    "df2 = data"
   ]
  },
  {
   "cell_type": "code",
   "execution_count": null,
   "metadata": {
    "colab": {
     "base_uri": "https://localhost:8080/",
     "height": 394
    },
    "id": "JbmHTg3qZSQc",
    "outputId": "a0820eed-5a9f-459d-d63b-c576b1c8c01b"
   },
   "outputs": [],
   "source": [
    "df2.drop(columns =[\"Source.IP\", \"Source.Port\", \"Destination.IP\", \"Destination.Port\"], inplace = True) #better way is to replace it with country using some lib like geo2ip but I am lazy\n",
    "import pandas as pd\n",
    "import numpy as np\n",
    "from sklearn.feature_selection import SelectKBest\n",
    "from sklearn.feature_selection import chi2\n",
    "from sklearn.preprocessing import LabelEncoder\n",
    "lb_make = LabelEncoder()\n",
    "df2[\"labels\"] = lb_make.fit_transform(df2[\"ProtocolName\"])\n",
    "df2[[\"ProtocolName\", \"labels\"]].head(11)"
   ]
  },
  {
   "cell_type": "code",
   "execution_count": null,
   "metadata": {
    "colab": {
     "base_uri": "https://localhost:8080/"
    },
    "id": "PBx_EBlzZSUN",
    "outputId": "0c863bff-665a-4f09-ab26-a62e4c1a90c2"
   },
   "outputs": [],
   "source": [
    "\n",
    "from sklearn.model_selection import train_test_split\n",
    "!pip install '/content/drive/My Drive/lib-0.1.0-py3-none-any.whl'\n",
    "y = df2.iloc[:,-1]\n",
    "from lib.utils import *\n",
    "X,y=scaler_transform(df2)\n",
    "ac=[]\n",
    "\n",
    "X_train, X_test, y_train, y_test = train_test_split(X, y, test_size=0.4, random_state=0)\n",
    "X_train.shape, y_train.shape\n",
    "ac=[]"
   ]
  },
  {
   "cell_type": "code",
   "execution_count": null,
   "metadata": {
    "id": "RKHHuV16ZSX2"
   },
   "outputs": [],
   "source": [
    "ac=[]\n",
    "\n",
    "import random\n",
    "from sklearn.linear_model import Ridge\n",
    "model = Ridge(alpha=1.0)\n",
    "\n",
    "def objective_function(x):\n",
    "    return x**2  \n",
    "\n",
    "\n",
    "class Particle:\n",
    "    def __init__(self):\n",
    "        self.position = random.uniform(-5, 5)  \n",
    "        self.velocity = random.uniform(-1, 1)  \n",
    "        self.best_position = self.position  \n",
    "        self.best_score = float('inf')  #\n",
    "\n",
    "    def particle_swarm_optimization(self,num_particles, num_iterations):\n",
    "        particles = [Particle() for _ in range(num_particles)]  \n",
    "        global_best_position = None  \n",
    "        global_best_score = float('inf')  \n",
    "\n",
    "        for _ in range(num_iterations):\n",
    "            for particle in particles:\n",
    "                score = objective_function(particle.position)  \n",
    "                if score < particle.best_score:\n",
    "                    particle.best_score = score\n",
    "                    particle.best_position = particle.position\n",
    "\n",
    "                if score < global_best_score:\n",
    "                    global_best_score = score\n",
    "                    global_best_position = particle.position\n",
    "\n",
    "\n",
    "                inertia_weight = 0.5\n",
    "                cognitive_weight = 0.5\n",
    "                social_weight = 0.5\n",
    "                particle.velocity = (inertia_weight * particle.velocity +\n",
    "                                     cognitive_weight * random.random() * (particle.best_position - particle.position) +\n",
    "                                     social_weight * random.random() * (global_best_position - particle.position))\n",
    "                particle.position += particle.velocity\n",
    "\n",
    "        return global_best_position, global_best_score\n",
    "\n",
    "    def train(self,X_train,y_train,X_test):\n",
    "        model.fit(X_train,y_train)\n",
    "        y_pred=model.predict(X_test)\n",
    "        return y_pred\n",
    "\n",
    "num_particles = 30  \n",
    "num_iterations = 100 \n",
    "p=Particle()\n",
    "best_position, best_score =p.particle_swarm_optimization(num_particles, num_iterations)\n",
    "\n",
    "y_pred=p.train(X_train,y_train,X_test)\n",
    "print(\"Best Position:\", best_position)\n",
    "print(\"Best Score:\", best_score)\n",
    "ac.append(accuracy_score(y_pred,y_train,sample_weight=0.2)*100)\n"
   ]
  },
  {
   "cell_type": "code",
   "execution_count": null,
   "metadata": {},
   "outputs": [],
   "source": [
    "import random\n",
    "import math\n",
    "\n",
    "def objective_function(x):\n",
    "    return x**2  \n",
    "\n",
    "\n",
    "def gho_search_algorithm(num_particles, num_iterations, search_space_lower_bound, search_space_upper_bound):\n",
    "    particles = [random.uniform(search_space_lower_bound, search_space_upper_bound) for _ in range(num_particles)]  # Initialize particles\n",
    "    \n",
    "    for _ in range(num_iterations):\n",
    "        \n",
    "        fitness_values = [objective_function(particle) for particle in particles]\n",
    "        \n",
    "        \n",
    "        best_particle_index = fitness_values.index(min(fitness_values))\n",
    "        best_particle = particles[best_particle_index]\n",
    "        best_fitness = fitness_values[best_particle_index]\n",
    "        \n",
    "       \n",
    "        for i in range(num_particles):\n",
    "            if i != best_particle_index:\n",
    "                distance = abs(particles[i] - best_particle)\n",
    "                gravitational_force = G * ((fitness_values[i] * fitness_values[best_particle_index]) / (distance + epsilon))\n",
    "                random_force = random.uniform(0, 1) * (particles[i] - best_particle)\n",
    "                particles[i] -= gravitational_force * random_force\n",
    "        \n",
    "    return best_particle, best_fitness\n",
    "def train(X_train,y_train,X_test):\n",
    "        model.fit(X_train,y_train)\n",
    "        y_pred=model.predict(X_test)\n",
    "        return y_pred\n",
    "\n",
    "\n",
    "G = 6.67430e-11  \n",
    "epsilon = 1e-20  \n",
    "\n",
    "\n",
    "num_particles = 30  \n",
    "num_iterations = 100  \n",
    "search_space_lower_bound = -10  \n",
    "search_space_upper_bound = 10  \n",
    "    \n",
    "best_solution, best_fitness = gho_search_algorithm(num_particles, num_iterations, search_space_lower_bound, search_space_upper_bound)\n",
    "y_pred=train(X_train,y_train,X_test)\n",
    "print(\"Best Fitness:\", best_fitness)\n",
    "ac.append(accuracy_score(y_pred,y_train)*100)"
   ]
  },
  {
   "cell_type": "code",
   "execution_count": null,
   "metadata": {
    "colab": {
     "base_uri": "https://localhost:8080/",
     "height": 297
    },
    "id": "Qe5vtQYueIHm",
    "outputId": "e9d7bb96-9c69-444f-c8b2-8aaa8fd629fa"
   },
   "outputs": [],
   "source": [
    "from scipy import signal\n",
    "import numpy as np\n",
    "sig = np.repeat([0., 1., 1., 0., 1., 0., 0., 1.], 128)\n",
    "sig_noise = sig + np.random.randn(len(sig))\n",
    "corr = signal.correlate(sig_noise, np.ones(128), mode='same') / 128\n",
    "import matplotlib.pyplot as plt\n",
    "clock = np.arange(64, len(sig), 128)\n",
    "fig, (ax_orig, ax_noise, ax_corr) = plt.subplots(3, 1, sharex=True)\n",
    "ax_orig.plot(sig)\n",
    "ax_orig.plot(clock, sig[clock], 'ro')\n",
    "ax_orig.set_title('Original signal')\n",
    "ax_noise.plot(sig_noise)\n",
    "ax_noise.set_title('Signal with noise')\n",
    "ax_corr.plot(corr)\n",
    "ax_corr.plot(clock, corr[clock], 'ro')\n",
    "ax_corr.axhline(0.5, ls=':')\n",
    "ax_corr.set_title('Cross-correlated with rectangular pulse')\n",
    "ax_orig.margins(0, 0.1)\n",
    "fig.tight_layout()\n",
    "fig.show()\n"
   ]
  },
  {
   "cell_type": "code",
   "execution_count": null,
   "metadata": {
    "colab": {
     "base_uri": "https://localhost:8080/",
     "height": 334
    },
    "id": "qaXExSZSwczQ",
    "outputId": "f2d18c36-3805-46d3-bb34-de4b23c79a40"
   },
   "outputs": [],
   "source": [
    "import numpy as np\n",
    "import seaborn as sns\n",
    "import matplotlib as plt\n",
    "\n",
    "plt.style.use('dark_background')\n",
    "x=['PSO','GHO']\n",
    " \n",
    "ax=sns.barplot(x,ac[:2])\n",
    "ax.set_title('Accuracy comparison')\n",
    "ax.set_ylabel('Accuracy')\n",
    "#ax.yaxis.set_major_locator(ticker.LinearLocator())\n",
    "print(\"the accuracy of {} is {} and {} is {}\".format(x[0],ac[0],x[1],ac[1]))\n",
    "ax.set_ylim(50,100)\n",
    "import pandas as pd\n",
    "data={'Agorithms':x,\n",
    "     \"accuracy\":ac[:2]}\n",
    "df=pd.DataFrame(data)\n",
    "df.head()"
   ]
  },
  {
   "cell_type": "code",
   "execution_count": null,
   "metadata": {
    "id": "EX48gfekzFaU"
   },
   "outputs": [],
   "source": [
    "\n",
    "ac"
   ]
  },
  {
   "cell_type": "code",
   "execution_count": null,
   "metadata": {
    "id": "FJtmwAst3ujp"
   },
   "outputs": [],
   "source": [
    "\n"
   ]
  },
  {
   "cell_type": "code",
   "execution_count": null,
   "metadata": {
    "id": "9e5UIyIe6QgN"
   },
   "outputs": [],
   "source": []
  }
 ],
 "metadata": {
  "colab": {
   "provenance": []
  },
  "kernelspec": {
   "display_name": "Python 3",
   "language": "python",
   "name": "python3"
  },
  "language_info": {
   "codemirror_mode": {
    "name": "ipython",
    "version": 3
   },
   "file_extension": ".py",
   "mimetype": "text/x-python",
   "name": "python",
   "nbconvert_exporter": "python",
   "pygments_lexer": "ipython3",
   "version": "3.6.4"
  },
  "papermill": {
   "duration": 284.469281,
   "end_time": "2020-08-17T08:22:31.981498",
   "environment_variables": {},
   "exception": null,
   "input_path": "__notebook__.ipynb",
   "output_path": "__notebook__.ipynb",
   "parameters": {},
   "start_time": "2020-08-17T08:17:47.512217",
   "version": "2.1.0"
  }
 },
 "nbformat": 4,
 "nbformat_minor": 1
}
